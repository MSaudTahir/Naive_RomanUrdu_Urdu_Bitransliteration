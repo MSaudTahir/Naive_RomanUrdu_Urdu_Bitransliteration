{
 "cells": [
  {
   "cell_type": "markdown",
   "metadata": {},
   "source": [
    "# 1) Impelementing roman2urdu()"
   ]
  },
  {
   "cell_type": "markdown",
   "metadata": {},
   "source": [
    "### Via word mapping and using extra data from https://github.com/MoizRauf/Urdu--Roman-Urdu--English--Dictionary/blob/master/en_ur_rom.high.tsv"
   ]
  },
  {
   "cell_type": "code",
   "execution_count": 164,
   "metadata": {},
   "outputs": [],
   "source": [
    "import pandas as pd\n",
    "from nltk.tokenize import word_tokenize\n",
    "import string"
   ]
  },
  {
   "cell_type": "markdown",
   "metadata": {},
   "source": [
    "Reading file 1"
   ]
  },
  {
   "cell_type": "code",
   "execution_count": 165,
   "metadata": {},
   "outputs": [],
   "source": [
    "defval = lambda: []\n",
    "from collections import defaultdict\n",
    "\n",
    "map_dict = defaultdict(defval)\n",
    "\n",
    "df2 = pd.read_csv('urdu roman.tsv', sep='\\t')\n",
    "df2.drop(['Ur—Rom Confidence Score', 'English',\t'Ur-En Confidence Score'], axis=1, inplace=True)\n",
    "\n",
    "map_dict = defaultdict(defval)\n",
    "\n",
    "for i in range(len(df2)):\n",
    "    map_dict[df2['Roman-Urdu'][i]].append(df2['Urdu'][i])"
   ]
  },
  {
   "cell_type": "markdown",
   "metadata": {},
   "source": [
    "Reading file 2"
   ]
  },
  {
   "cell_type": "code",
   "execution_count": 166,
   "metadata": {},
   "outputs": [],
   "source": [
    "file = open('urdu roman.txt', 'r', encoding='utf-8')\n",
    "Lines = file.readlines()\n",
    "\n",
    "urdu = []\n",
    "roman = []\n",
    "\n",
    "#add even lines to urdu list, and odd lines to english list\n",
    "for i in range(len(Lines)):\n",
    "    if i % 2 == 0:\n",
    "        roman.append(Lines[i])\n",
    "    else:\n",
    "        urdu.append(Lines[i])\n",
    "\n",
    "for i in range(len(urdu)):\n",
    "    urdu[i] = urdu[i].strip()\n",
    "    roman[i] = roman[i].strip().lower()\n",
    "\n",
    "df = pd.DataFrame({'urdu': urdu, 'roman': roman})\n",
    "\n",
    "for i in range(len(df)):\n",
    "    roman_words = word_tokenize(df['roman'][i].translate(str.maketrans('', '', string.punctuation)))\n",
    "    urdu_words = word_tokenize(df['urdu'][i].translate(str.maketrans('', '', '،۔')))\n",
    "    \n",
    "    \n",
    "    if len(roman_words) == len(urdu_words):\n",
    "        j = 0\n",
    "        for i in range(len(roman_words)):\n",
    "            if len(roman_words[i]) >=4  and len(urdu_words[j]) <= 2:\n",
    "                if j < len(urdu_words)-1:\n",
    "                    map_dict[roman_words[i]].append(urdu_words[j] + ' ' + urdu_words[j+1])\n",
    "                    j+=1 \n",
    "                else:\n",
    "                    map_dict[roman_words[i]].append(urdu_words[j])\n",
    "            else:\n",
    "                map_dict[roman_words[i]].append(urdu_words[j])\n",
    "            j+=1\n",
    "            if j == len(urdu_words):\n",
    "                break\n",
    "\n",
    "        "
   ]
  },
  {
   "cell_type": "markdown",
   "metadata": {},
   "source": [
    "Main transliteration function"
   ]
  },
  {
   "cell_type": "code",
   "execution_count": 167,
   "metadata": {},
   "outputs": [],
   "source": [
    "map_dict['.'] = ['۔']\n",
    "\n",
    "def word_segmentation(word):\n",
    "    for i in range(0, len(word)):\n",
    "        word1 = word[:len(word)-i]\n",
    "        word2 = word[len(word)-i:]\n",
    "        if word2 in map_dict and word1 in map_dict:\n",
    "            return [map_dict[word1][0], map_dict[word2][0]], [word1, word2]\n",
    "    return None, None\n",
    "\n",
    "def roman2urdu(roman):\n",
    "    urdu = []\n",
    "    words = word_tokenize(roman)\n",
    "    \n",
    "    for i in range(len(words)):\n",
    "        if words[i].lower() in map_dict.keys():\n",
    "            urdu.append(map_dict[words[i].lower()][0])\n",
    "        else:\n",
    "            separated  = word_segmentation(words[i].lower())\n",
    "            if separated == None:\n",
    "                urdu.append(words[i].lower())\n",
    "            else:\n",
    "                urdu.append(separated[0])\n",
    "                urdu.append(separated[1])\n",
    "    return ' '.join(urdu)"
   ]
  },
  {
   "cell_type": "markdown",
   "metadata": {},
   "source": [
    "Checking the function"
   ]
  },
  {
   "cell_type": "code",
   "execution_count": 168,
   "metadata": {},
   "outputs": [
    {
     "name": "stdout",
     "output_type": "stream",
     "text": [
      "سری لنکا اپنا آخری اوور کھیل رہے هے اور سکور 264 هے اسس طرح ميرے خیال میں یہ ایک اچھا سکور هے اور میچ میں دلچسپی پیدا حو رہے هے\n"
     ]
    }
   ],
   "source": [
    "output = roman2urdu('Sri Lanka apna aakhree over khail rahee hai aur score 264 hai is tarah mere khayal meN yah ek acha score hai aur match meN dilchaspee paida ho rahee hai')\n",
    "print(output)"
   ]
  },
  {
   "cell_type": "markdown",
   "metadata": {},
   "source": [
    "# 2) Implementing urdu2roman()"
   ]
  },
  {
   "cell_type": "markdown",
   "metadata": {},
   "source": [
    "### Via character mapping and rulesets"
   ]
  },
  {
   "cell_type": "code",
   "execution_count": 169,
   "metadata": {},
   "outputs": [],
   "source": [
    "urdu_lang_dict = {'ا': ['a', 'aa', 'a'], 'ب': ['b'], 'پ': ['p'], 'ت': ['t'], 'ٹ': ['t'], 'ث': ['s'], 'ج': ['j'], 'چ': ['ch'], 'ح': ['h'], 'خ': ['kh'], 'د': ['d'], 'ڈ': ['dd'], 'ذ': ['z'], 'ر': ['r'], 'ڑ': ['rr'], 'ز': ['z'], 'ژ': ['zh'], 'س': ['s'], 'ش': ['sh'], 'ص': ['s'], 'ض': ['z'], 'ط': ['t'], 'ظ': ['z'], 'ع': ['a', \"a'\", 'o'], 'غ': ['gh'], 'ف': ['f'], 'ق': ['q'], 'ک': ['k'], 'گ': ['g'], 'ل': ['l'], 'م': ['m'], 'ن': ['n'], 'و': ['wo', 'o', 'o'], 'ہ': ['h', 'h', 'eh'], 'ھ': ['h'], 'ه' : ['h'], 'ی': ['y', 'ei', 'i'], 'ئ': ['i'], 'ي': ['e'], 'ے': ['ay'], 'آ': ['aa'], 'ں': ['n'], '؟': ['?'], '،': [','], '.': ['.'], '۔': ['.']}\n",
    "\n",
    "no_As = ['ی', 'ے', 'آ', 'ا', 'و', 'ع', 'ہ', 'ں', 'ھ', 'ئ', 'ن']\n",
    "next_skippers = ['ئی']"
   ]
  },
  {
   "cell_type": "markdown",
   "metadata": {},
   "source": [
    "Main transilteration function and a function to get position of letter in a word."
   ]
  },
  {
   "cell_type": "code",
   "execution_count": 170,
   "metadata": {},
   "outputs": [],
   "source": [
    "def get_position(text, index):\n",
    "    if index == 0:\n",
    "        return 0\n",
    "    elif index == len(text) - 1:\n",
    "        return 2\n",
    "    else:\n",
    "        if text[index - 1] == ' ':\n",
    "            return 0\n",
    "        elif text[index + 1] == ' ' or text[index + 1] == '.' or text[index + 1] == '۔' or text[index + 1] == '،' or text[index + 1] == '\"':\n",
    "            return 2\n",
    "        else:\n",
    "           return 1\n",
    "\n",
    "\n",
    "def urdu2roman(input_text):\n",
    "    skip = False\n",
    "    output_text = \"\"\n",
    "    for i in range(len(input_text)):\n",
    "        if not skip:\n",
    "            char = input_text[i]\n",
    "            if char in urdu_lang_dict:\n",
    "                pos = get_position(input_text, i)\n",
    "                if len(urdu_lang_dict[char]) > 1:\n",
    "                    output_text += urdu_lang_dict[char][pos]\n",
    "                else:\n",
    "                    output_text += urdu_lang_dict[char][0]\n",
    "                if i < len(input_text) - 1:\n",
    "                    if input_text[i+1] not in no_As and input_text[i] not in no_As:\n",
    "                        if pos == 1:\n",
    "                            output_text += 'a'\n",
    "                    if char+input_text[i+1] in next_skippers:\n",
    "                        skip = True\n",
    "                        continue\n",
    "            else:\n",
    "                output_text += char\n",
    "        else:\n",
    "            skip = False\n",
    "    return output_text"
   ]
  },
  {
   "cell_type": "markdown",
   "metadata": {},
   "source": [
    "Checking the function"
   ]
  },
  {
   "cell_type": "code",
   "execution_count": 171,
   "metadata": {},
   "outputs": [
    {
     "name": "stdout",
     "output_type": "stream",
     "text": [
      "sri lnka apna aakhari aoor kheil rhay hay aor skor 264 hay asas trah mearay kheiaal mein yeh aeik achha skor hay aor meich mein dlachasapi peida ho rhay hay\n"
     ]
    }
   ],
   "source": [
    "output = urdu2roman('سری لنکا اپنا آخری اوور کھیل رہے هے اور سکور 264 هے اسس طرح ميرے خیال میں یہ ایک اچھا سکور هے اور میچ میں دلچسپی پیدا حو رہے هے')\n",
    "print(output)"
   ]
  }
 ],
 "metadata": {
  "interpreter": {
   "hash": "ffdbc3eb62563fec4753f90355209b24bd03b2219d6054b3c98de912704bf9b4"
  },
  "kernelspec": {
   "display_name": "Python 3.9.10 64-bit",
   "language": "python",
   "name": "python3"
  },
  "language_info": {
   "codemirror_mode": {
    "name": "ipython",
    "version": 3
   },
   "file_extension": ".py",
   "mimetype": "text/x-python",
   "name": "python",
   "nbconvert_exporter": "python",
   "pygments_lexer": "ipython3",
   "version": "3.9.10"
  },
  "orig_nbformat": 4
 },
 "nbformat": 4,
 "nbformat_minor": 2
}
